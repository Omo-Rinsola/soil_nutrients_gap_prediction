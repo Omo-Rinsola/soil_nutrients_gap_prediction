{
 "cells": [
  {
   "cell_type": "markdown",
   "id": "882b5f0d",
   "metadata": {},
   "source": [
    "IMPORTS"
   ]
  },
  {
   "cell_type": "code",
   "execution_count": 1,
   "id": "4217c347",
   "metadata": {},
   "outputs": [
    {
     "name": "stderr",
     "output_type": "stream",
     "text": [
      "\u001b[32m2025-07-11 23:30:53.681\u001b[0m | \u001b[1mINFO    \u001b[0m | \u001b[36msrc.config\u001b[0m:\u001b[36m<module>\u001b[0m:\u001b[36m11\u001b[0m - \u001b[1mPROJ_ROOT path is: /Users/omorinsolamakinde/nutrient-gap\u001b[0m\n"
     ]
    }
   ],
   "source": [
    "import sys \n",
    "from pathlib import Path\n",
    "\n",
    "import pandas as pd\n",
    "import numpy as np\n",
    "\n",
    "\n",
    "import warnings\n",
    "warnings.filterwarnings('ignore')  # To keep output clean\n",
    "pd.pandas.set_option('display.max_columns', None)\n",
    "\n",
    "project_root = Path().resolve().parent\n",
    "sys.path.append(str(project_root))\n",
    "\n",
    "from src.dataset import load_data\n",
    "from src.config import PROCESSED_DATA_DIR, logger\n",
    "from src.features import build_preprocessor\n",
    "from sklearn.pipeline import Pipeline\n",
    "from sklearn.dummy import DummyRegressor\n",
    "from sklearn.linear_model import LinearRegression\n",
    "from sklearn.multioutput import MultiOutputRegressor\n",
    "from src.modeling.train import evaluate_model, save_model\n"
   ]
  },
  {
   "cell_type": "markdown",
   "id": "f7d02b0c",
   "metadata": {},
   "source": [
    "LOAD DATA"
   ]
  },
  {
   "cell_type": "code",
   "execution_count": 2,
   "id": "21808299",
   "metadata": {},
   "outputs": [
    {
     "name": "stderr",
     "output_type": "stream",
     "text": [
      "\u001b[32m2025-07-11 23:31:00.520\u001b[0m | \u001b[1mINFO    \u001b[0m | \u001b[36msrc.dataset\u001b[0m:\u001b[36mload_data\u001b[0m:\u001b[36m25\u001b[0m - \u001b[1mloading data from/Users/omorinsolamakinde/nutrient-gap/data/processed/clean_train.csv\u001b[0m\n"
     ]
    },
    {
     "data": {
      "text/html": [
       "<div>\n",
       "<style scoped>\n",
       "    .dataframe tbody tr th:only-of-type {\n",
       "        vertical-align: middle;\n",
       "    }\n",
       "\n",
       "    .dataframe tbody tr th {\n",
       "        vertical-align: top;\n",
       "    }\n",
       "\n",
       "    .dataframe thead th {\n",
       "        text-align: right;\n",
       "    }\n",
       "</style>\n",
       "<table border=\"1\" class=\"dataframe\">\n",
       "  <thead>\n",
       "    <tr style=\"text-align: right;\">\n",
       "      <th></th>\n",
       "      <th>lon</th>\n",
       "      <th>lat</th>\n",
       "      <th>pH</th>\n",
       "      <th>alb</th>\n",
       "      <th>bio1</th>\n",
       "      <th>bio12</th>\n",
       "      <th>bio15</th>\n",
       "      <th>bio7</th>\n",
       "      <th>bp</th>\n",
       "      <th>cec20</th>\n",
       "      <th>dows</th>\n",
       "      <th>ecec20</th>\n",
       "      <th>hp20</th>\n",
       "      <th>ls</th>\n",
       "      <th>lstd</th>\n",
       "      <th>mb1</th>\n",
       "      <th>mb2</th>\n",
       "      <th>mb3</th>\n",
       "      <th>mb7</th>\n",
       "      <th>para</th>\n",
       "      <th>parv</th>\n",
       "      <th>ph20</th>\n",
       "      <th>slope</th>\n",
       "      <th>snd20</th>\n",
       "      <th>soc20</th>\n",
       "      <th>tim</th>\n",
       "      <th>wp</th>\n",
       "      <th>BulkDensity</th>\n",
       "      <th>N</th>\n",
       "      <th>P</th>\n",
       "      <th>K</th>\n",
       "      <th>Ca</th>\n",
       "      <th>Mg</th>\n",
       "      <th>S</th>\n",
       "      <th>Fe</th>\n",
       "      <th>Mn</th>\n",
       "      <th>Zn</th>\n",
       "      <th>Cu</th>\n",
       "      <th>B</th>\n",
       "    </tr>\n",
       "  </thead>\n",
       "  <tbody>\n",
       "    <tr>\n",
       "      <th>0</th>\n",
       "      <td>70.603761</td>\n",
       "      <td>46.173798</td>\n",
       "      <td>7.75</td>\n",
       "      <td>176</td>\n",
       "      <td>248</td>\n",
       "      <td>920</td>\n",
       "      <td>108</td>\n",
       "      <td>190</td>\n",
       "      <td>0.581573</td>\n",
       "      <td>22.00</td>\n",
       "      <td>21.500278</td>\n",
       "      <td>11.007790</td>\n",
       "      <td>0.00779</td>\n",
       "      <td>0.030000</td>\n",
       "      <td>44.908058</td>\n",
       "      <td>2006.000488</td>\n",
       "      <td>3182.000732</td>\n",
       "      <td>855.000244</td>\n",
       "      <td>2363.000732</td>\n",
       "      <td>20.544283</td>\n",
       "      <td>126.835480</td>\n",
       "      <td>7.050</td>\n",
       "      <td>1.962921</td>\n",
       "      <td>39.00</td>\n",
       "      <td>9.75</td>\n",
       "      <td>7.962668</td>\n",
       "      <td>0.016853</td>\n",
       "      <td>1.46</td>\n",
       "      <td>1300</td>\n",
       "      <td>0.34</td>\n",
       "      <td>147</td>\n",
       "      <td>6830</td>\n",
       "      <td>2310</td>\n",
       "      <td>5.66</td>\n",
       "      <td>75.2</td>\n",
       "      <td>85.0</td>\n",
       "      <td>0.82</td>\n",
       "      <td>2.98</td>\n",
       "      <td>0.24</td>\n",
       "    </tr>\n",
       "    <tr>\n",
       "      <th>1</th>\n",
       "      <td>70.590479</td>\n",
       "      <td>46.078924</td>\n",
       "      <td>7.10</td>\n",
       "      <td>181</td>\n",
       "      <td>250</td>\n",
       "      <td>1080</td>\n",
       "      <td>113</td>\n",
       "      <td>191</td>\n",
       "      <td>0.707011</td>\n",
       "      <td>24.00</td>\n",
       "      <td>21.389599</td>\n",
       "      <td>14.023500</td>\n",
       "      <td>0.02350</td>\n",
       "      <td>0.030000</td>\n",
       "      <td>44.985626</td>\n",
       "      <td>1637.000122</td>\n",
       "      <td>2839.000488</td>\n",
       "      <td>707.000061</td>\n",
       "      <td>2039.000488</td>\n",
       "      <td>18.869566</td>\n",
       "      <td>109.835541</td>\n",
       "      <td>6.975</td>\n",
       "      <td>0.162065</td>\n",
       "      <td>40.00</td>\n",
       "      <td>8.00</td>\n",
       "      <td>8.439500</td>\n",
       "      <td>0.018321</td>\n",
       "      <td>1.52</td>\n",
       "      <td>1400</td>\n",
       "      <td>11.70</td>\n",
       "      <td>151</td>\n",
       "      <td>1180</td>\n",
       "      <td>235</td>\n",
       "      <td>19.40</td>\n",
       "      <td>96.2</td>\n",
       "      <td>409.0</td>\n",
       "      <td>2.57</td>\n",
       "      <td>4.32</td>\n",
       "      <td>0.10</td>\n",
       "    </tr>\n",
       "    <tr>\n",
       "      <th>2</th>\n",
       "      <td>70.582553</td>\n",
       "      <td>46.048820</td>\n",
       "      <td>6.95</td>\n",
       "      <td>188</td>\n",
       "      <td>250</td>\n",
       "      <td>1109</td>\n",
       "      <td>111</td>\n",
       "      <td>191</td>\n",
       "      <td>0.362439</td>\n",
       "      <td>15.25</td>\n",
       "      <td>18.900057</td>\n",
       "      <td>16.062401</td>\n",
       "      <td>0.06240</td>\n",
       "      <td>0.030000</td>\n",
       "      <td>44.167717</td>\n",
       "      <td>1639.999634</td>\n",
       "      <td>2903.000000</td>\n",
       "      <td>758.999939</td>\n",
       "      <td>2003.999878</td>\n",
       "      <td>24.719807</td>\n",
       "      <td>214.385269</td>\n",
       "      <td>6.725</td>\n",
       "      <td>0.744845</td>\n",
       "      <td>46.00</td>\n",
       "      <td>9.25</td>\n",
       "      <td>8.289246</td>\n",
       "      <td>0.020588</td>\n",
       "      <td>1.46</td>\n",
       "      <td>3500</td>\n",
       "      <td>21.80</td>\n",
       "      <td>151</td>\n",
       "      <td>1890</td>\n",
       "      <td>344</td>\n",
       "      <td>11.00</td>\n",
       "      <td>76.7</td>\n",
       "      <td>65.0</td>\n",
       "      <td>1.95</td>\n",
       "      <td>1.24</td>\n",
       "      <td>0.22</td>\n",
       "    </tr>\n",
       "    <tr>\n",
       "      <th>3</th>\n",
       "      <td>70.573267</td>\n",
       "      <td>46.021910</td>\n",
       "      <td>7.83</td>\n",
       "      <td>174</td>\n",
       "      <td>250</td>\n",
       "      <td>1149</td>\n",
       "      <td>112</td>\n",
       "      <td>191</td>\n",
       "      <td>0.531739</td>\n",
       "      <td>22.00</td>\n",
       "      <td>17.022963</td>\n",
       "      <td>18.030899</td>\n",
       "      <td>0.03090</td>\n",
       "      <td>0.030000</td>\n",
       "      <td>43.281063</td>\n",
       "      <td>1325.000122</td>\n",
       "      <td>2413.000244</td>\n",
       "      <td>631.999939</td>\n",
       "      <td>1961.000000</td>\n",
       "      <td>27.230274</td>\n",
       "      <td>255.713043</td>\n",
       "      <td>6.625</td>\n",
       "      <td>0.708708</td>\n",
       "      <td>43.75</td>\n",
       "      <td>10.00</td>\n",
       "      <td>8.666523</td>\n",
       "      <td>0.016913</td>\n",
       "      <td>1.48</td>\n",
       "      <td>2300</td>\n",
       "      <td>39.90</td>\n",
       "      <td>201</td>\n",
       "      <td>6660</td>\n",
       "      <td>719</td>\n",
       "      <td>14.90</td>\n",
       "      <td>81.9</td>\n",
       "      <td>73.0</td>\n",
       "      <td>4.90</td>\n",
       "      <td>3.08</td>\n",
       "      <td>0.87</td>\n",
       "    </tr>\n",
       "    <tr>\n",
       "      <th>4</th>\n",
       "      <td>70.585330</td>\n",
       "      <td>46.204336</td>\n",
       "      <td>8.07</td>\n",
       "      <td>188</td>\n",
       "      <td>250</td>\n",
       "      <td>869</td>\n",
       "      <td>114</td>\n",
       "      <td>191</td>\n",
       "      <td>0.039202</td>\n",
       "      <td>14.75</td>\n",
       "      <td>23.103102</td>\n",
       "      <td>11.000000</td>\n",
       "      <td>0.00000</td>\n",
       "      <td>0.155324</td>\n",
       "      <td>45.654484</td>\n",
       "      <td>1628.999512</td>\n",
       "      <td>2685.999023</td>\n",
       "      <td>732.999939</td>\n",
       "      <td>2427.000000</td>\n",
       "      <td>20.434782</td>\n",
       "      <td>86.220909</td>\n",
       "      <td>6.700</td>\n",
       "      <td>0.634153</td>\n",
       "      <td>49.25</td>\n",
       "      <td>7.00</td>\n",
       "      <td>15.139549</td>\n",
       "      <td>0.019791</td>\n",
       "      <td>1.43</td>\n",
       "      <td>940</td>\n",
       "      <td>1.00</td>\n",
       "      <td>90</td>\n",
       "      <td>7340</td>\n",
       "      <td>1160</td>\n",
       "      <td>8.66</td>\n",
       "      <td>69.4</td>\n",
       "      <td>149.0</td>\n",
       "      <td>0.55</td>\n",
       "      <td>3.03</td>\n",
       "      <td>0.31</td>\n",
       "    </tr>\n",
       "  </tbody>\n",
       "</table>\n",
       "</div>"
      ],
      "text/plain": [
       "         lon        lat    pH  alb  bio1  bio12  bio15  bio7        bp  cec20  \\\n",
       "0  70.603761  46.173798  7.75  176   248    920    108   190  0.581573  22.00   \n",
       "1  70.590479  46.078924  7.10  181   250   1080    113   191  0.707011  24.00   \n",
       "2  70.582553  46.048820  6.95  188   250   1109    111   191  0.362439  15.25   \n",
       "3  70.573267  46.021910  7.83  174   250   1149    112   191  0.531739  22.00   \n",
       "4  70.585330  46.204336  8.07  188   250    869    114   191  0.039202  14.75   \n",
       "\n",
       "        dows     ecec20     hp20        ls       lstd          mb1  \\\n",
       "0  21.500278  11.007790  0.00779  0.030000  44.908058  2006.000488   \n",
       "1  21.389599  14.023500  0.02350  0.030000  44.985626  1637.000122   \n",
       "2  18.900057  16.062401  0.06240  0.030000  44.167717  1639.999634   \n",
       "3  17.022963  18.030899  0.03090  0.030000  43.281063  1325.000122   \n",
       "4  23.103102  11.000000  0.00000  0.155324  45.654484  1628.999512   \n",
       "\n",
       "           mb2         mb3          mb7       para        parv   ph20  \\\n",
       "0  3182.000732  855.000244  2363.000732  20.544283  126.835480  7.050   \n",
       "1  2839.000488  707.000061  2039.000488  18.869566  109.835541  6.975   \n",
       "2  2903.000000  758.999939  2003.999878  24.719807  214.385269  6.725   \n",
       "3  2413.000244  631.999939  1961.000000  27.230274  255.713043  6.625   \n",
       "4  2685.999023  732.999939  2427.000000  20.434782   86.220909  6.700   \n",
       "\n",
       "      slope  snd20  soc20        tim        wp  BulkDensity     N      P    K  \\\n",
       "0  1.962921  39.00   9.75   7.962668  0.016853         1.46  1300   0.34  147   \n",
       "1  0.162065  40.00   8.00   8.439500  0.018321         1.52  1400  11.70  151   \n",
       "2  0.744845  46.00   9.25   8.289246  0.020588         1.46  3500  21.80  151   \n",
       "3  0.708708  43.75  10.00   8.666523  0.016913         1.48  2300  39.90  201   \n",
       "4  0.634153  49.25   7.00  15.139549  0.019791         1.43   940   1.00   90   \n",
       "\n",
       "     Ca    Mg      S    Fe     Mn    Zn    Cu     B  \n",
       "0  6830  2310   5.66  75.2   85.0  0.82  2.98  0.24  \n",
       "1  1180   235  19.40  96.2  409.0  2.57  4.32  0.10  \n",
       "2  1890   344  11.00  76.7   65.0  1.95  1.24  0.22  \n",
       "3  6660   719  14.90  81.9   73.0  4.90  3.08  0.87  \n",
       "4  7340  1160   8.66  69.4  149.0  0.55  3.03  0.31  "
      ]
     },
     "execution_count": 2,
     "metadata": {},
     "output_type": "execute_result"
    }
   ],
   "source": [
    "train_df = load_data(\"clean_train.csv\", data_type=\"processed\")\n",
    "train_df.head()"
   ]
  },
  {
   "cell_type": "markdown",
   "id": "e1db4745",
   "metadata": {},
   "source": [
    "TARGET COLUMNS"
   ]
  },
  {
   "cell_type": "code",
   "execution_count": 3,
   "id": "e039e189",
   "metadata": {},
   "outputs": [],
   "source": [
    "# target columns\n",
    "target_cols = ['N', 'P', 'K', 'Ca', 'Mg', 'S', 'Fe', 'Mn', 'Zn', 'Cu', 'B']"
   ]
  },
  {
   "cell_type": "markdown",
   "id": "fb7c5e68",
   "metadata": {},
   "source": [
    "PREPROCESSOR PIPELINE"
   ]
  },
  {
   "cell_type": "code",
   "execution_count": 4,
   "id": "184aaa26",
   "metadata": {},
   "outputs": [
    {
     "name": "stdout",
     "output_type": "stream",
     "text": [
      "(7744, 28)\n"
     ]
    }
   ],
   "source": [
    "# build processor \n",
    "preprocessor,  feature_cols = build_preprocessor(\n",
    "    df=train_df,\n",
    "    target_cols=target_cols,\n",
    "    impute_strategy=\"mean\",\n",
    "    scale=True,\n",
    "    cap_outliers=True,\n",
    "    power_transformer=True\n",
    "    \n",
    ")\n",
    "\n",
    "# Split feature and target\n",
    "X = train_df[feature_cols]\n",
    "y = train_df[target_cols]\n",
    "\n",
    "\n",
    "# Fit and transform training data\n",
    "X_preprocessed = preprocessor.fit_transform(X)\n",
    "\n",
    "print(X_preprocessed.shape)"
   ]
  },
  {
   "cell_type": "markdown",
   "id": "0cd8b15b",
   "metadata": {},
   "source": [
    "BASELINE MODEL(DUMMY REGRESSOR)"
   ]
  },
  {
   "cell_type": "code",
   "execution_count": 5,
   "id": "73a3756a",
   "metadata": {},
   "outputs": [],
   "source": [
    "dummy = DummyRegressor(strategy=\"mean\")\n",
    "multi_dummy = MultiOutputRegressor(dummy)\n"
   ]
  },
  {
   "cell_type": "markdown",
   "id": "218c694f",
   "metadata": {},
   "source": [
    "MODEL PIPELINE"
   ]
  },
  {
   "cell_type": "code",
   "execution_count": 6,
   "id": "e01756f8",
   "metadata": {},
   "outputs": [
    {
     "name": "stdout",
     "output_type": "stream",
     "text": [
      "Training RMSE: [490.85048603 489.88861575 489.72734397 490.42028733 485.87743715]\n",
      "Validation RMSE: [483.10120617 486.31832091 487.65862859 484.28928517 502.36044272]\n",
      "Avg Train RMSE: 489.35\n",
      "Avg Val RMSE: 488.75\n",
      "Gap (Val - Train): -0.61\n"
     ]
    }
   ],
   "source": [
    "baseline_pipeline, train_rmse, val_rmse = evaluate_model(\n",
    "    preprocessor=preprocessor,\n",
    "    model=multi_dummy,\n",
    "    X=X,\n",
    "    y=y,\n",
    "    cv_folds=5\n",
    ")"
   ]
  },
  {
   "cell_type": "markdown",
   "id": "bce3d9f1",
   "metadata": {},
   "source": [
    "SAVE BASELINE MODEL "
   ]
  },
  {
   "cell_type": "code",
   "execution_count": 7,
   "id": "e0596b86",
   "metadata": {},
   "outputs": [
    {
     "name": "stdout",
     "output_type": "stream",
     "text": [
      "Model saved to /Users/omorinsolamakinde/nutrient-gap/models/baseline_model.joblib\n"
     ]
    }
   ],
   "source": [
    "save_model(baseline_pipeline, \"baseline_model.joblib\")"
   ]
  },
  {
   "cell_type": "markdown",
   "id": "3cd69140",
   "metadata": {},
   "source": [
    "LINEAR REGRESSION \n"
   ]
  },
  {
   "cell_type": "code",
   "execution_count": 8,
   "id": "a5250751",
   "metadata": {},
   "outputs": [
    {
     "name": "stdout",
     "output_type": "stream",
     "text": [
      "Training RMSE: [319.77645922 316.11663796 316.70885886 318.60719882 313.98274277]\n",
      "Validation RMSE: [308.16333168 320.45588113 318.68928252 311.7973517  330.97461375]\n",
      "Avg Train RMSE: 317.04\n",
      "Avg Val RMSE: 318.02\n",
      "Gap (Val - Train): 0.98\n"
     ]
    }
   ],
   "source": [
    "multi_linear = MultiOutputRegressor(LinearRegression())\n",
    "\n",
    "linear_pipeline, train_rmse, val_rmse = evaluate_model(\n",
    "    preprocessor=preprocessor,\n",
    "    model=multi_linear,\n",
    "    X=X,\n",
    "    y=y\n",
    ")"
   ]
  },
  {
   "cell_type": "markdown",
   "id": "34a4388b",
   "metadata": {},
   "source": [
    "SAVE LINEAR MODEL"
   ]
  },
  {
   "cell_type": "code",
   "execution_count": 9,
   "id": "489bfa96",
   "metadata": {},
   "outputs": [
    {
     "name": "stdout",
     "output_type": "stream",
     "text": [
      "Model saved to /Users/omorinsolamakinde/nutrient-gap/models/01_linear_model.joblib\n"
     ]
    }
   ],
   "source": [
    "save_model(linear_pipeline, \"01_linear_model.joblib\")"
   ]
  },
  {
   "cell_type": "code",
   "execution_count": null,
   "id": "0246ec94",
   "metadata": {},
   "outputs": [],
   "source": []
  }
 ],
 "metadata": {
  "kernelspec": {
   "display_name": "gapvenv",
   "language": "python",
   "name": "python3"
  },
  "language_info": {
   "codemirror_mode": {
    "name": "ipython",
    "version": 3
   },
   "file_extension": ".py",
   "mimetype": "text/x-python",
   "name": "python",
   "nbconvert_exporter": "python",
   "pygments_lexer": "ipython3",
   "version": "3.12.4"
  }
 },
 "nbformat": 4,
 "nbformat_minor": 5
}
